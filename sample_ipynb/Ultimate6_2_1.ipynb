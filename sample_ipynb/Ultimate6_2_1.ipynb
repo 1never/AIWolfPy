{
 "cells": [
  {
   "cell_type": "code",
   "execution_count": 1,
   "metadata": {
    "collapsed": true
   },
   "outputs": [],
   "source": [
    "import math\n",
    "\n",
    "l09 = - math.log10(0.9)\n",
    "l05 = - math.log10(0.5)\n",
    "l03 = - math.log10(0.3)\n",
    "\n",
    "def calc_rel_prob_divine(x):\n",
    "    \"\"\"update rel_prob given current divine information\n",
    "    core for prediction\n",
    "    \"\"\"\n",
    "    rel_lpdvn = 0.0\n",
    "    # possessed might not divine werewolf as werewolf\n",
    "    rel_lpdvn += x.dvn_cnt[2][1][1] * l09\n",
    "    # werewolf might not divine possessed as werewolf\n",
    "    rel_lpdvn += x.dvn_cnt[1][2][1] * l05\n",
    "    # werewolf would not divine werewolf as werewolf\n",
    "    rel_lpdvn += x.dvn_cnt[1][1][1] * 1\n",
    "    # village Seer should not tell a lie\n",
    "    rel_lpdvn += (x.dvn_cnt[0][0][1] + x.dvn_cnt[0][1][0] + x.dvn_cnt[0][2][1]) * 2\n",
    "    return math.pow(10, -rel_lpdvn)\n",
    "\n",
    "def calc_rel_prob_inquest(x):\n",
    "    \"\"\"update rel_prob given current inquest information\n",
    "    core for prediction\n",
    "    \"\"\"\n",
    "    # village Medium should not tell a lie\n",
    "    return math.pow(0.01, x.inq_cnt[0][0][1] + x.inq_cnt[0][1][0] + x.inq_cnt[0][2][1])\n",
    "\n",
    "def calc_rel_prob_vote(x):\n",
    "    \"\"\"update part of rel_prob given current vote information\n",
    "    core for prediction\n",
    "    \"\"\"\n",
    "    rel_lpvt = 0.0\n",
    "    # werewolf might not vote possessed\n",
    "    rel_lpvt += x.vote_cnt[1][2] * l09\n",
    "    # possessed might not vote werewolf\n",
    "    rel_lpvt += x.vote_cnt[2][1] * l09\n",
    "    # werewolf would not vote werewolf\n",
    "    rel_lpvt += x.vote_cnt[1][1] * l05\n",
    "    return math.pow(10, -rel_lpvt)\n",
    "\n",
    "def calc_rel_prob_attack(x):\n",
    "    \"\"\"update part of rel_prob given current attack information\n",
    "    core for prediction\n",
    "    \"\"\"\n",
    "    # werewolves are never to be attacked\n",
    "    if x.atc_cnt[1] > 0:\n",
    "        return 0.0\n",
    "    else:\n",
    "        return 1.0\n",
    "\n",
    "def calc_rel_prob_co(x):\n",
    "    \"\"\"update part of rel_prob given current CO information\n",
    "    core for prediction\n",
    "    \"\"\"\n",
    "    rel_lpco = 0.0\n",
    "    # village Seer would comingout\n",
    "    if x.co_cnt[2][0] + x.co_cnt[1][0] > 0 and x.co_cnt[0][0] == 0:\n",
    "        rel_lpco += 2.0\n",
    "    # village Medium would comingout\n",
    "    if x.co_cnt[2][1] + x.co_cnt[1][1] > 0 and x.co_cnt[0][1] == 0:\n",
    "        rel_lpco += 2.0\n",
    "    # TODO:bodyguard\n",
    "    # possessed would comingout\n",
    "    if sum(x.co_cnt[2]) == 0:\n",
    "        rel_lpco += 1.0\n",
    "    # werewolves might not comingout\n",
    "    rel_lpco += (x.co_cnt[1][0] + x.co_cnt[1][1] + x.co_cnt[1][2]) * l05\n",
    "    # villagers must not comingout\n",
    "    if x.co_cnt[0][0] > 1:\n",
    "        rel_lpco += 3.0\n",
    "    if x.co_cnt[0][1] > 1:\n",
    "        rel_lpco += 3.0\n",
    "    if x.co_cnt[0][2] > 1:\n",
    "        rel_lpco += 3.0\n",
    "    return math.pow(10, -rel_lpco)\n",
    "\n",
    "class EnemyCase(object):\n",
    "    \"\"\"object for each case who are werewolves and who is possessed\n",
    "    get information and update fitness\n",
    "    basic concept is Bayes' theorem : P(B|A) = P(B) * (P(A|B) / P(A))\n",
    "    B: this case is true, A: Information\n",
    "    rel_prob stands for P(B|A)\n",
    "    \"\"\"\n",
    "    def __init__(self, ww, ps, vilsize):\n",
    "        # P(B|A)\n",
    "        self.rel_prob = 1.0\n",
    "        self.rel_prob_co = 1.0\n",
    "        self.rel_prob_vote = 1.0\n",
    "        self.rel_prob_divine = 1.0\n",
    "        self.rel_prob_inquest = 1.0\n",
    "        self.rel_prob_attack = 1.0\n",
    "        \n",
    "        # member\n",
    "        self.hm_idx = [idx for idx in range(1, vilsize+1) if idx != ps and idx not in ww]\n",
    "        self.ww_idx = ww # werewolves\n",
    "        self.ps_idx = [ps] # possessed\n",
    "        self.dict_idx = dict()\n",
    "        \n",
    "        for idx in range(1, vilsize+1):\n",
    "            if idx in self.hm_idx:\n",
    "                self.dict_idx[idx] = 0\n",
    "            elif idx in self.ww_idx:\n",
    "                self.dict_idx[idx] = 1\n",
    "            else:\n",
    "                self.dict_idx[idx] = 2\n",
    "        \n",
    "        # vote\n",
    "        # count, 0:villager, 1:werewolf, 2:possessed\n",
    "        self.vote_cnt = [[0, 0, 0], [0, 0, 0], [0, 0, 0]]\n",
    "        # likelyhood\n",
    "        # TODO 1\n",
    "        \n",
    "        # co 0:seer, 1:medium, 2:bodyguard\n",
    "        self.co_cnt = [[0, 0, 0], [0, 0, 0], [0, 0, 0]]\n",
    "        \n",
    "        # divine\n",
    "        # count\n",
    "        self.dvn_cnt = [[[0, 0], [0, 0], [0, 0]], [[0, 0], [0, 0], [0, 0]], [[0, 0], [0, 0], [0, 0]]]\n",
    "        # entropy\n",
    "        # TODO 2\n",
    "        \n",
    "        # inquest\n",
    "        # count\n",
    "        self.inq_cnt = [[[0, 0], [0, 0], [0, 0]], [[0, 0], [0, 0], [0, 0]], [[0, 0], [0, 0], [0, 0]]]\n",
    "        # entropy\n",
    "        # TODO?\n",
    "        \n",
    "        # attacked\n",
    "        self.atc_cnt = [0, 0, 0]\n",
    "    \n",
    "    \n",
    "    def initialize(self):\n",
    "        # P(B|A)\n",
    "        self.rel_prob = 1.0\n",
    "        self.rel_prob_co = 1.0\n",
    "        self.rel_prob_vote = 1.0\n",
    "        self.rel_prob_divine = 1.0\n",
    "        self.rel_prob_inquest = 1.0\n",
    "        self.rel_prob_attack = 1.0\n",
    "        \n",
    "        # vote\n",
    "        # count, 0:villager, 1:werewolf, 2:possessed\n",
    "        self.vote_cnt = [[0, 0, 0], [0, 0, 0], [0, 0, 0]]\n",
    "        # likelyhood\n",
    "        # TODO 1\n",
    "        # co 0:seer, 1:medium, 2:bodyguard\n",
    "        self.co_cnt = [[0, 0, 0], [0, 0, 0], [0, 0, 0]]\n",
    "        \n",
    "        # divine\n",
    "        # count\n",
    "        self.dvn_cnt = [[[0, 0], [0, 0], [0, 0]], [[0, 0], [0, 0], [0, 0]], [[0, 0], [0, 0], [0, 0]]]\n",
    "        # entropy\n",
    "        # TODO 2\n",
    "        \n",
    "        # inquest\n",
    "        # count\n",
    "        self.inq_cnt = [[[0, 0], [0, 0], [0, 0]], [[0, 0], [0, 0], [0, 0]], [[0, 0], [0, 0], [0, 0]]]\n",
    "        # entropy\n",
    "        # TODO?\n",
    "        \n",
    "        # attacked\n",
    "        self.atc_cnt = [0, 0, 0]\n",
    "    \n",
    "    def return_rel_prob(self):\n",
    "        \"\"\"return rel_prob\n",
    "        \"\"\"\n",
    "        return self.rel_prob\n",
    "    \n",
    "    def update_rel_prob(self):\n",
    "        \"\"\"update rel_prob given current information\n",
    "        \"\"\"\n",
    "        self.rel_prob = self.rel_prob_co * self.rel_prob_vote * self.rel_prob_divine * self.rel_prob_inquest * self.rel_prob_attack\n",
    "    \n",
    "    def show_status(self):\n",
    "        \"\"\"for debug\n",
    "        returns currrent status\n",
    "        \"\"\"\n",
    "        # todo\n",
    "        pass\n",
    "    \n",
    "    def get_votelist(self, votelist):\n",
    "        \"\"\"get votelist as list of list [[x, y],...]\n",
    "        x:agent, y:target\n",
    "        \"\"\"\n",
    "        for vote in votelist:\n",
    "            self.vote_cnt[self.dict_idx[vote[0]]][self.dict_idx[vote[1]]] += 1\n",
    "        # update rel_prob_vote\n",
    "        self.rel_prob_vote = calc_rel_prob_vote(self)\n",
    "        rel_lpvt = 0.0\n",
    "    \n",
    "    def get_colist(self, colist):\n",
    "        \"\"\"get list of new co made from talklist in form [[x, role]]\n",
    "        x:agent, role:role, 0:seer, 1:medium, 2:bodyguard\n",
    "        \"\"\"\n",
    "        for co in colist:\n",
    "            self.co_cnt[self.dict_idx[co[0]]][co[1]] += 1\n",
    "        # update rel_prob_co\n",
    "        self.rel_prob_co = calc_rel_prob_co(self)\n",
    "    \n",
    "    def get_divine_list(self, divinelist):\n",
    "        \"\"\"get new divine result list made from talklist in form [[x, y, race]]\n",
    "        x:agent, y:target, race:0:\"HUMAN\", 1:\"WEREWOLF\"\n",
    "        \"\"\"\n",
    "        for divine in divinelist:\n",
    "            self.dvn_cnt[self.dict_idx[divine[0]]][self.dict_idx[divine[1]]][divine[2]] += 1\n",
    "        # update rel_prob_divine\n",
    "        self.rel_prob_divine = calc_rel_prob_divine(self)\n",
    "    \n",
    "    def get_inquest_list(self, inquestlist):\n",
    "        \"\"\"get new inquest result list made from talklist in form [[x, y, race]]\n",
    "        x:agent, y:target, race:0:\"HUMAN\", 1:\"WEREWOLF\"\n",
    "        \"\"\"\n",
    "        for inquest in inquestlist:\n",
    "            self.inq_cnt[self.dict_idx[inquest[0]]][self.dict_idx[inquest[1]]][inquest[2]] += 1\n",
    "        # update rel_prob_inquest\n",
    "        self.rel_prob_inquest = calc_rel_prob_inquest(self)\n",
    "\n",
    "    def get_attacked(self, x):\n",
    "        \"\"\"get agentid newly attacked by werewolves\n",
    "        x:agent\n",
    "        \"\"\"\n",
    "        self.atc_cnt[self.dict_idx[x]] += 1\n",
    "        # update rel_prob_attack\n",
    "        self.rel_prob_attack = calc_rel_prob_attack(self)"
   ]
  },
  {
   "cell_type": "code",
   "execution_count": 2,
   "metadata": {
    "collapsed": true
   },
   "outputs": [],
   "source": [
    "# pre_calculate\n",
    "glocbal_import_case_list_13 = []\n",
    "vilsize = 13\n",
    "glocbal_import_case_list_13 = []\n",
    "for ps in range(1, vilsize+1):\n",
    "    for w1 in range(1,vilsize-1):\n",
    "        for w2 in range(w1+1, vilsize):\n",
    "            for w3 in range(w2+1, vilsize+1):\n",
    "                if ps not in [w1, w2, w3]:\n",
    "                    glocbal_import_case_list_13.append(EnemyCase([w1, w2, w3], ps, vilsize))\n",
    "\n",
    "glocbal_import_case_list = []\n",
    "vilsize = 15\n",
    "glocbal_import_case_list = []\n",
    "for ps in range(1, vilsize+1):\n",
    "    for w1 in range(1,vilsize-1):\n",
    "        for w2 in range(w1+1, vilsize):\n",
    "            for w3 in range(w2+1, vilsize+1):\n",
    "                if ps not in [w1, w2, w3]:\n",
    "                    glocbal_import_case_list.append(EnemyCase([w1, w2, w3], ps, vilsize))\n",
    "\n",
    "\n",
    "class EnemyCaseList(object):\n",
    "    \"\"\"\n",
    "    \"\"\"\n",
    "    def __init__(self, vilsize=15):\n",
    "        # main object\n",
    "        if vilsize == 13:\n",
    "            self.case_list = glocbal_import_case_list_13\n",
    "        else:\n",
    "            self.case_list = glocbal_import_case_list\n",
    "    \n",
    "    def initialize(self):\n",
    "        for ec in self.case_list:\n",
    "            ec.initialize()\n",
    "\n",
    "    def update_rel_prob(self):\n",
    "        \"\"\"update rel_prob given current information\n",
    "        \"\"\"\n",
    "        for ec in self.case_list:\n",
    "            ec.update_rel_prob()\n",
    "\n",
    "    # to return 1\n",
    "    # each agent\n",
    "    def prob_now(self, agent_idx):\n",
    "        \"\"\"return [P(agent_idx = VILLAGER), P(agent_idx = POSSESSED), P(agent_idx = WEREWOLF)]\n",
    "        \"\"\"\n",
    "        rel_p_hm = sum([x.rel_prob for x in self.case_list if agent_idx in x.hm_idx])\n",
    "        rel_p_ps = sum([x.rel_prob for x in self.case_list if agent_idx in x.ps_idx])\n",
    "        rel_p_ww = sum([x.rel_prob for x in self.case_list if agent_idx in x.ww_idx])\n",
    "        rel_psum = sum([x.rel_prob for x in self.case_list])\n",
    "        return [rel_p_hm / rel_psum, rel_p_ps / rel_psum, rel_p_ww / rel_psum]\n",
    "    \n",
    "    # to return 2\n",
    "    # each agent | Watashi Ninngen!\n",
    "    def prob_now_wn(self, agent_idx, agent_idy):\n",
    "        \"\"\"return [P(agent_idx = VILLAGER), P(agent_idx = POSSESSED), P(agent_idx = WEREWOLF)]\n",
    "        in condition that agent_idy = VILLAGER\n",
    "        \"\"\"\n",
    "        rel_p_hm = sum([x.rel_prob for x in self.case_list if agent_idx in x.hm_idx and agent_idy in x.hm_idx])\n",
    "        rel_p_ps = sum([x.rel_prob for x in self.case_list if agent_idx in x.ps_idx and agent_idy in x.hm_idx])\n",
    "        rel_p_ww = sum([x.rel_prob for x in self.case_list if agent_idx in x.ww_idx and agent_idy in x.hm_idx])\n",
    "        rel_psum = max(0.0000000001, sum([x.rel_prob for x in self.case_list if agent_idy in x.hm_idx]))\n",
    "        return [rel_p_hm / rel_psum, rel_p_ps / rel_psum, rel_p_ww / rel_psum]\n",
    "    # to return d1 (for debug)\n",
    "    # prob for special case\n",
    "    def prob_special_case(self, ww, ps):\n",
    "        pel_p_spc = sum([x.rel_prob for x in self.case_list if ps in x.ps_idx and sorted(x.ww_idx) == sorted(ww)])\n",
    "        rel_psum = sum([x.rel_prob for x in self.case_list])\n",
    "        return  pel_p_spc / rel_psum\n",
    "\n",
    "    def get_votelist(self, votelist):\n",
    "        \"\"\"get votelist as list of list [[x, y],...]\n",
    "        x:agent, y:target\n",
    "        \"\"\"\n",
    "        for ec in self.case_list:\n",
    "            ec.get_votelist(votelist)\n",
    "\n",
    "    def get_colist(self, colist):\n",
    "        \"\"\"get list of new co made from talklist in form [[x, role]]\n",
    "        x:agent, role:role\n",
    "        \"\"\"\n",
    "        for ec in self.case_list:\n",
    "            ec.get_colist(colist)\n",
    "        \n",
    "    def get_divine_list(self, divinelist):\n",
    "        \"\"\"get new divine result list made from talklist in form [[x, y, race, p]]\n",
    "        x:agent, y:target, race:\"WEREWOLF\" or \"HUMAN\", p=P(y is werewolf|x is human)\n",
    "        \"\"\"\n",
    "        for ec in self.case_list:\n",
    "            ec.get_divine_list(divinelist)\n",
    "\n",
    "    def get_inquest_list(self, inquestlist):\n",
    "        \"\"\"get new inquest result list made from talklist in form [[x, y, race]]\n",
    "        x:agent, y:target, race:\"WEREWOLF\" or \"HUMAN\"\n",
    "        \"\"\"\n",
    "        for ec in self.case_list:\n",
    "            ec.get_inquest_list(inquestlist)\n",
    "        \n",
    "    def get_attacked(self, x):\n",
    "        \"\"\"get agentid newly attacked by werewolves\n",
    "        x:agent\n",
    "        \"\"\"\n",
    "        for ec in self.case_list:\n",
    "            ec.get_attacked(x)"
   ]
  },
  {
   "cell_type": "code",
   "execution_count": 3,
   "metadata": {
    "collapsed": true
   },
   "outputs": [],
   "source": [
    "game2_1 = EnemyCaseList(vilsize=13)\n",
    "game2_1.initialize()"
   ]
  },
  {
   "cell_type": "code",
   "execution_count": 4,
   "metadata": {
    "collapsed": true
   },
   "outputs": [],
   "source": [
    "# もろもろ継承略"
   ]
  },
  {
   "cell_type": "code",
   "execution_count": 5,
   "metadata": {
    "collapsed": false
   },
   "outputs": [],
   "source": [
    "# 1日目\n",
    "# 大浜と村中が占いCO\n",
    "game2_1.get_colist([[4, 0], [9, 0]])\n",
    "# 占い結果:大浜->森本(白), 村中->安西(白)\n",
    "game2_1.get_divine_list([[4, 12, 0], [9, 10, 0]])\n",
    "# 大野が霊媒CO\n",
    "game2_1.get_colist([[11, 1]])\n",
    "# 投票\n",
    "game2_1.get_votelist([[8, 6], [4, 9], [2, 6], [12, 13], [5, 8], [6, 11], [3, 5], [9, 8], [13, 11], [11, 13], [1, 5], [10, 8], [7, 11]])\n",
    "# 再投票\n",
    "game2_1.get_votelist([[1, 8], [2, 8], [3, 11], [4, 8], [5, 8], [6, 8], [7, 11], [9, 8], [10, 8], [12, 8], [13, 11]])\n"
   ]
  },
  {
   "cell_type": "code",
   "execution_count": 6,
   "metadata": {
    "collapsed": true
   },
   "outputs": [],
   "source": [
    "# 2日目\n",
    "# 襲撃:なし\n",
    "# デイジーと児玉が霊媒CO\n",
    "game2_1.get_colist([[3, 1], [7, 1]])\n",
    "# 霊媒結果:デイジー->中田(白), 児玉->中田(白), 大野->中田(白)\n",
    "game2_1.get_inquest_list([[3, 8, 0], [7, 8, 0], [11, 8, 0]])\n",
    "# 占い結果:大浜->デイジー(白), 村中->児玉(白)\n",
    "game2_1.get_divine_list([[4, 3, 0], [9, 7, 0]])\n",
    "# 投票\n",
    "game2_1.get_votelist([[11, 7], [3, 7], [1, 11], [2, 11], [7, 11], [5, 7], [6, 11], [13, 11], [12, 7], [4, 7], [10, 7], [9, 11]])\n",
    "# 再投票\n",
    "game2_1.get_votelist([[1, 11], [2, 11], [3, 7], [4, 7], [5, 7], [6, 11], [9, 7], [10, 11], [12, 7], [13, 7]])\n"
   ]
  },
  {
   "cell_type": "code",
   "execution_count": 7,
   "metadata": {
    "collapsed": true
   },
   "outputs": [],
   "source": [
    "# 3日目\n",
    "# 襲撃:メイソン\n",
    "game2_1.get_attacked(1)\n",
    "# 霊媒結果:デイジー->児玉(黒), 大野->児玉(黒)\n",
    "game2_1.get_inquest_list([[3, 7, 1], [11, 7, 1]])\n",
    "# 占い結果:大浜->メイソン(白), 村中->メイソン(白)\n",
    "game2_1.get_divine_list([[4, 1, 0], [9, 1, 0]])\n",
    "# 投票\n",
    "game2_1.get_votelist([[4, 9], [3, 9], [2, 11], [9, 11], [12, 11], [5, 3], [11, 9], [13, 11], [10, 11], [6, 11]])\n"
   ]
  },
  {
   "cell_type": "code",
   "execution_count": 8,
   "metadata": {
    "collapsed": true
   },
   "outputs": [],
   "source": [
    "# 4日目\n",
    "# 襲撃:イシイ\n",
    "game2_1.get_attacked(13)\n",
    "# 霊媒結果:デイジー->大野(黒)\n",
    "game2_1.get_inquest_list([[3, 11, 1]])\n",
    "# 占い結果:大浜->ダンカン(白), 村中->森本(白)\n",
    "game2_1.get_divine_list([[4, 2, 0], [9, 12, 0]])\n",
    "# 投票\n",
    "game2_1.get_votelist([[6, 3], [2, 3], [5, 3], [4, 5], [3, 9], [10, 9], [9, 3], [12, 3]])\n"
   ]
  },
  {
   "cell_type": "code",
   "execution_count": 9,
   "metadata": {
    "collapsed": true
   },
   "outputs": [],
   "source": [
    "# 5日目\n",
    "# 襲撃:森本\n",
    "game2_1.get_attacked(12)\n",
    "# 占い結果:大浜->武中(白), 村中->武中(黒)\n",
    "game2_1.get_divine_list([[4, 5, 0], [9, 5, 1]])\n",
    "# 投票\n",
    "game2_1.get_votelist([[5, 9], [9, 5], [4, 9], [2, 5], [6, 5], [10, 5]])\n"
   ]
  },
  {
   "cell_type": "code",
   "execution_count": 10,
   "metadata": {
    "collapsed": true
   },
   "outputs": [],
   "source": [
    "# 6日目\n",
    "# 襲撃:ダンカン\n",
    "game2_1.get_attacked(2)\n",
    "# 占い結果:大浜->香川(白), 村中->大浜(黒)\n",
    "game2_1.get_divine_list([[4, 6, 0], [9, 4, 1]])\n"
   ]
  },
  {
   "cell_type": "code",
   "execution_count": 11,
   "metadata": {
    "collapsed": true
   },
   "outputs": [],
   "source": [
    "# 1:メイソン\n",
    "# 2:ダンカン\n",
    "# 3:デイジー\n",
    "# 4:大浜\n",
    "# 5:武中\n",
    "# 6:香川\n",
    "# 7:児玉\n",
    "# 8:中田\n",
    "# 9:村中\n",
    "# 10:安西\n",
    "# 11:大野\n",
    "# 12:森本\n",
    "# 13:イシイ"
   ]
  },
  {
   "cell_type": "code",
   "execution_count": 12,
   "metadata": {
    "collapsed": true
   },
   "outputs": [],
   "source": [
    "# 最終日の投票前の時点で判断\n",
    "game2_1.update_rel_prob()"
   ]
  },
  {
   "cell_type": "code",
   "execution_count": 13,
   "metadata": {
    "collapsed": true
   },
   "outputs": [],
   "source": [
    "# 大浜目線"
   ]
  },
  {
   "cell_type": "code",
   "execution_count": 14,
   "metadata": {
    "collapsed": false
   },
   "outputs": [
    {
     "data": {
      "text/plain": [
       "[0.9699116078158678, 0.0014304554934660538, 0.02865793669066576]"
      ]
     },
     "execution_count": 14,
     "metadata": {},
     "output_type": "execute_result"
    }
   ],
   "source": [
    "game2_1.prob_now_wn(6, 4)"
   ]
  },
  {
   "cell_type": "code",
   "execution_count": 15,
   "metadata": {
    "collapsed": false
   },
   "outputs": [
    {
     "data": {
      "text/plain": [
       "[6.0680676427002736e-09, 0.06682154136671418, 0.9331784525652184]"
      ]
     },
     "execution_count": 15,
     "metadata": {},
     "output_type": "execute_result"
    }
   ],
   "source": [
    "game2_1.prob_now_wn(9, 4)"
   ]
  },
  {
   "cell_type": "code",
   "execution_count": 16,
   "metadata": {
    "collapsed": false
   },
   "outputs": [
    {
     "data": {
      "text/plain": [
       "[0.05355241159906665, 0.001427401881675844, 0.945020186519257]"
      ]
     },
     "execution_count": 16,
     "metadata": {},
     "output_type": "execute_result"
    }
   ],
   "source": [
    "game2_1.prob_now_wn(10, 4)"
   ]
  },
  {
   "cell_type": "code",
   "execution_count": 17,
   "metadata": {
    "collapsed": true
   },
   "outputs": [],
   "source": [
    "# 香川目線"
   ]
  },
  {
   "cell_type": "code",
   "execution_count": 18,
   "metadata": {
    "collapsed": false
   },
   "outputs": [
    {
     "data": {
      "text/plain": [
       "[0.19300883307251154, 0.001257333115061165, 0.8057338338124264]"
      ]
     },
     "execution_count": 18,
     "metadata": {},
     "output_type": "execute_result"
    }
   ],
   "source": [
    "game2_1.prob_now_wn(4, 6)"
   ]
  },
  {
   "cell_type": "code",
   "execution_count": 19,
   "metadata": {
    "collapsed": false
   },
   "outputs": [
    {
     "data": {
      "text/plain": [
       "[0.8047200343375566, 0.015376405637803599, 0.17990356002463934]"
      ]
     },
     "execution_count": 19,
     "metadata": {},
     "output_type": "execute_result"
    }
   ],
   "source": [
    "game2_1.prob_now_wn(9, 6)"
   ]
  },
  {
   "cell_type": "code",
   "execution_count": 20,
   "metadata": {
    "collapsed": false
   },
   "outputs": [
    {
     "data": {
      "text/plain": [
       "[0.8110411020600857, 0.0007044690929703134, 0.18825442884694316]"
      ]
     },
     "execution_count": 20,
     "metadata": {},
     "output_type": "execute_result"
    }
   ],
   "source": [
    "game2_1.prob_now_wn(10, 6)"
   ]
  },
  {
   "cell_type": "code",
   "execution_count": 21,
   "metadata": {
    "collapsed": true
   },
   "outputs": [],
   "source": [
    "# 村中目線"
   ]
  },
  {
   "cell_type": "code",
   "execution_count": 22,
   "metadata": {
    "collapsed": false
   },
   "outputs": [
    {
     "data": {
      "text/plain": [
       "[1.4865409434096901e-09, 0.001442441974793559, 0.9985575565386647]"
      ]
     },
     "execution_count": 22,
     "metadata": {},
     "output_type": "execute_result"
    }
   ],
   "source": [
    "game2_1.prob_now_wn(4, 9)"
   ]
  },
  {
   "cell_type": "code",
   "execution_count": 23,
   "metadata": {
    "collapsed": false
   },
   "outputs": [
    {
     "data": {
      "text/plain": [
       "[0.9906636950089991, 0.00037763272603872006, 0.008958672264962683]"
      ]
     },
     "execution_count": 23,
     "metadata": {},
     "output_type": "execute_result"
    }
   ],
   "source": [
    "game2_1.prob_now_wn(6, 9)"
   ]
  },
  {
   "cell_type": "code",
   "execution_count": 24,
   "metadata": {
    "collapsed": false
   },
   "outputs": [
    {
     "data": {
      "text/plain": [
       "[0.9992369929618349, 0.000517591217193497, 0.00024541582097133136]"
      ]
     },
     "execution_count": 24,
     "metadata": {},
     "output_type": "execute_result"
    }
   ],
   "source": [
    "game2_1.prob_now_wn(10, 9)"
   ]
  },
  {
   "cell_type": "code",
   "execution_count": 25,
   "metadata": {
    "collapsed": true
   },
   "outputs": [],
   "source": [
    "# 安西目線"
   ]
  },
  {
   "cell_type": "code",
   "execution_count": 26,
   "metadata": {
    "collapsed": false
   },
   "outputs": [
    {
     "data": {
      "text/plain": [
       "[0.012923329173671767, 0.001528677119646118, 0.985547993706682]"
      ]
     },
     "execution_count": 26,
     "metadata": {},
     "output_type": "execute_result"
    }
   ],
   "source": [
    "game2_1.prob_now_wn(4, 10)"
   ]
  },
  {
   "cell_type": "code",
   "execution_count": 27,
   "metadata": {
    "collapsed": false
   },
   "outputs": [
    {
     "data": {
      "text/plain": [
       "[0.9835426777052854, 0.0007168544781470394, 0.01574046781656796]"
      ]
     },
     "execution_count": 27,
     "metadata": {},
     "output_type": "execute_result"
    }
   ],
   "source": [
    "game2_1.prob_now_wn(6, 10)"
   ]
  },
  {
   "cell_type": "code",
   "execution_count": 28,
   "metadata": {
    "collapsed": false
   },
   "outputs": [
    {
     "data": {
      "text/plain": [
       "[0.9843225063742381, 0.003810850463600946, 0.011866643162160692]"
      ]
     },
     "execution_count": 28,
     "metadata": {},
     "output_type": "execute_result"
    }
   ],
   "source": [
    "game2_1.prob_now_wn(9, 10)"
   ]
  },
  {
   "cell_type": "code",
   "execution_count": null,
   "metadata": {
    "collapsed": true
   },
   "outputs": [],
   "source": []
  }
 ],
 "metadata": {
  "kernelspec": {
   "display_name": "Python 2",
   "language": "python",
   "name": "python2"
  },
  "language_info": {
   "codemirror_mode": {
    "name": "ipython",
    "version": 2
   },
   "file_extension": ".py",
   "mimetype": "text/x-python",
   "name": "python",
   "nbconvert_exporter": "python",
   "pygments_lexer": "ipython2",
   "version": "2.7.11"
  }
 },
 "nbformat": 4,
 "nbformat_minor": 0
}
